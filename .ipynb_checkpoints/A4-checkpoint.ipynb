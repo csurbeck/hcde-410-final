{
 "cells": [
  {
   "cell_type": "markdown",
   "id": "77a7df42-7cd1-4fe6-86d0-9f02c885564e",
   "metadata": {},
   "source": [
    "# A5: Final Project Plan\n",
    "\n",
    "#### Overview\n",
    "For my final project, I am planning to analyze datasets about greenhouse gas emission and wildfire in Washington State to search for relationships between data fields. This topic is especially interesting to me as these different areas of climate data are fluctuating, especially amidst the discussion of climate change, and I am curious to see if there are concrete relationships that can be derived from the data that could lead to further scientific evaluation of how these different climate events have an impact on each other. \n",
    "\n",
    "#### Research Questions\n",
    "\n",
    "1. Is there a relationship between greenhouse gas emissions and wildfire destruction in the state of Washington?\n",
    "2. What happens with wildfires when Washington experiences high greenhouse gas emissions?\n",
    "3. How have greenhouse gas emissions trended over the years?\n",
    "4. How have Washington wildfires trended over the years?\n",
    "\n",
    "#### Data\n",
    "\n",
    "I have chosen two datasets to use in this project:\n",
    "* GHG (Greenhouse Gas) Reporting Program Publication. This dataset is provided by the Washington State Department of Ecology and includes reports from different companies from the years 2012 through 2023 detailing their total emissions from that year as well as the breakdown of the amount of each greenhouse gas that was emitted. This dataset includes crucial emission data to connecting how emission amount may correlate to data trends in the other dataset. This dataset has a public domain license and can be found by following this link: https://data.wa.gov/Natural-Resources-Environment/GHG-Reporting-Program-Publication/idhm-59de?category=Natural-Resources-Environment&view_name=GHG-Reporting-Program-Publication\n",
    "\n",
    "* Washington Large Fire 1973-2020. This dataset is provided by the Washington State Department of Natural Resources and includes information about wildfires in the state of Washington, such as the year they occurred, how long they lasted, how big the area impacted by the fire was, and where the fire occurred. This data will enable me to aggregate information about total area impacted by wildfire for a given year. This dataset is public, and has a custom license that still enables use but clarifies that the Washington State Department of Natural Resources acknowledges it doesn't hold any finanical or legal liability to the accuracy of the dataset. The dataset can be followed by following this link: https://geo.wa.gov/datasets/wadnr::washington-large-fires-1973-2020/about\n",
    "\n",
    "#### Background & Related Works\n",
    "\n",
    "Greenhouse gas emissions and wildfires are both recorded to be on the rise in terms of frequency and severity as climate change progresses globally. While there hasn't been much specific conclusions of their correlation to each other, it is known that greenhouse gases are emitted from these big wildfire burns and that greenhouse gases and wildfires causes a negative feedback loop. The greenhouse gases emitted from these big burns are usually offset by the regrowth of greenry which in turn removes carbon from the atmosphere, maintaining a net-neutral emission of greenhouse gases. Nonetheless, if plants don't grow to maturity where they can fully remove and process the emitted gases, then there can be a skewed output of gases (1). In terms of the negative feedback loop that wildfires and greenhouse gas emissions are making, as CO2 emission accumulate in the atmosphere and (the globe) experiences more warming, extreme heat events, and drought, the risk and intensity of fires also increases, which in turn push the terrestrial carbon cycle further out of balance (2).\n",
    "\n",
    "The background knowledge about this topic definitely motivates my study to see if I can find a relationship between the datasets that will support the aforementioned claims. Mostly, I am looking to see if the negative feedback loop of higher greenhouse gas emission correlates with more destructive wildfires. This perogative is directly encompassed in my first two research questions, and my third and fourth questions have to do with what sort of observations I can make about these climate events given the datasets. \n",
    "\n",
    "Sources:\n",
    "1. https://www.c2es.org/content/wildfires-and-climate-change/#:~:text=Although%20wildfires%20produce%20a%20number,net%20neutral%20effect%20on%20climate\n",
    "2. https://ww2.arb.ca.gov/resources/documents/frequently-asked-questions-wildfire-emissions#:~:text=They%20are%20also%20contributing%20to,turn%20push%20the%20terrestrial%20carbon\n",
    "\n",
    "#### Methodology\n",
    "\n",
    "Given that I am hoping to find some sort of linear relationship between greenhouse gas (GHG) emissions and wildfire level, I am going to use a linear regression t-test to determine if there is a statistical significance between the independent and dependent variable. For visualizing the data, I will use regular graphs with GHG emissions and wildfire levels on the x and y axes to see if any sort of linear trend evolves. I would also like to make a time series graph that will span the years of available data and will shows the GHG emissions and wildfire severity for each year. \n",
    "\n",
    "I will use the 'year' and 'total emissions' columns in the GHG dataset to aggregate the total carbon emissions from all of the companies for each year. I will use the 'year' and 'acres' columns from the Washington Large Fires dataset to aggregate the total number of acres burned for each given year. Then, I will be able to graph total emissions against total acres burned to draw conclusions on how GHG emissions may impact wildfires in the state of Washington. \n",
    "\n",
    "#### Unknown\n",
    "\n",
    "I think the complexity of the relationships between the datasets that I pursue will be the determining factor in how much time this project will take me. I feel confident with my ability to load data into jupyterlab and work with it, so \n",
    "i need to spend more time deciding how I am going to search for correlations."
   ]
  }
 ],
 "metadata": {
  "kernelspec": {
   "display_name": "Python 3 (ipykernel)",
   "language": "python",
   "name": "python3"
  },
  "language_info": {
   "codemirror_mode": {
    "name": "ipython",
    "version": 3
   },
   "file_extension": ".py",
   "mimetype": "text/x-python",
   "name": "python",
   "nbconvert_exporter": "python",
   "pygments_lexer": "ipython3",
   "version": "3.9.7"
  }
 },
 "nbformat": 4,
 "nbformat_minor": 5
}
