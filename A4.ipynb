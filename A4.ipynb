{
 "cells": [
  {
   "cell_type": "markdown",
   "id": "77a7df42-7cd1-4fe6-86d0-9f02c885564e",
   "metadata": {},
   "source": [
    "# A4: Final Project Preliminary Proposal\n",
    "\n",
    "#### Motivation\n",
    "For my final project, I am planning to analyze datasets about greenhouse gas emission, wildfires, and climatological data in Washington State to search for relationships between data fields. This topic is especially interesting to me as these different areas of climate data are fluctuating, especially amidst the discussion of climate change, and I am curious to see if there are concrete relationships that can be derived from the data that could lead to further scientific evaluation of how these different climate event have an impact on each other. \n",
    "\n",
    "#### Data\n",
    "\n",
    "I have chosen three datasets to use in this project:\n",
    "* GHG (Greenhouse Gas) Reporting Program Publication. This dataset is provided by the Washington State Department of Ecology and includes reports from different companies from the years 2012 through 2023 detailing their total emissions from that year as well as the breakdown of the amount of each greenhouse gas that was emitted. This dataset includes crucial emission data to connecting how emission amount may correlate to data trends in the other dataset. This dataset has a public domain license and can be found by following this link: https://data.wa.gov/Natural-Resources-Environment/GHG-Reporting-Program-Publication/idhm-59de?category=Natural-Resources-Environment&view_name=GHG-Reporting-Program-Publication\n",
    "\n",
    "* Washington Large Fire 1973-2020. This dataset is provided by the Washington State Department of Natural Resources and includes information about wildfires in the state of Washington, such as the year they occurred, how long they lasted, how big the area impacted by the fire was, and where the fire occurred. This data will enable me to aggregate information about total area impacted by wildfire for a given year. This dataset is public, and has a custom license that still enables use but clarifies that the Washington State Department of Natural Resources acknowledges it doesn't hold any finanical or legal liability to the accuracy of the dataset. The dataset can be followed by following this link: https://geo.wa.gov/datasets/wadnr::washington-large-fires-1973-2020/about\n",
    "\n",
    "* U.S. Local Climatological Data (LCD). Within this dataset are multiple CSV files that contain a year's worth of climatological data for different locations. The location I will be considering is Seattle Boeing Field and the data fields that detail mean monthly temperature (potentially more fields as I work with the dataset) as a gauge for assessing for shifting trends in temperature change through the years. I couldn't find the license for this data but it appears to be public and only claims that NOAA and NCEI can't provide any warranty as to the accuracy or reliability of the data. The dataset can be accessed by following this link: https://www.ncei.noaa.gov/access/search/data-search/local-climatological-data?bbox=47.714,-122.439,47.494,-122.219&pageNum=1\n",
    "\n",
    "#### Unknown\n",
    "\n",
    "I think the complexity of the relationships between the datasets that I pursue will be the determining factor in how much time this project will take me. I feel confident with my ability to load data into jupyterlab and work with it, so \n",
    "i need to spend more time deciding how I am going to search for correlations."
   ]
  },
  {
   "cell_type": "markdown",
   "id": "461040f6-acb6-4095-bb1e-7ffa267e4773",
   "metadata": {},
   "source": []
  }
 ],
 "metadata": {
  "kernelspec": {
   "display_name": "Python 3 (ipykernel)",
   "language": "python",
   "name": "python3"
  },
  "language_info": {
   "codemirror_mode": {
    "name": "ipython",
    "version": 3
   },
   "file_extension": ".py",
   "mimetype": "text/x-python",
   "name": "python",
   "nbconvert_exporter": "python",
   "pygments_lexer": "ipython3",
   "version": "3.9.7"
  }
 },
 "nbformat": 4,
 "nbformat_minor": 5
}
